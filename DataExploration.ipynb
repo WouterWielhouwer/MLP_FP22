{
 "cells": [
  {
   "cell_type": "code",
   "execution_count": 1,
   "metadata": {
    "collapsed": true
   },
   "outputs": [
    {
     "name": "stderr",
     "output_type": "stream",
     "text": [
      "[nltk_data] Downloading package punkt to\n",
      "[nltk_data]     C:\\Users\\swwou\\AppData\\Roaming\\nltk_data...\n",
      "[nltk_data]   Package punkt is already up-to-date!\n"
     ]
    },
    {
     "data": {
      "text/plain": "True"
     },
     "execution_count": 1,
     "metadata": {},
     "output_type": "execute_result"
    }
   ],
   "source": [
    "import pandas as pd\n",
    "import os\n",
    "import re\n",
    "import nltk\n",
    "\n",
    "nltk.download('punkt')"
   ]
  },
  {
   "cell_type": "code",
   "execution_count": 2,
   "outputs": [],
   "source": [
    "south = pd.read_csv(\"South_Park/All-seasons.csv\")\n",
    "south.name = 'South Park'"
   ],
   "metadata": {
    "collapsed": false,
    "pycharm": {
     "name": "#%%\n"
    }
   }
  },
  {
   "cell_type": "code",
   "execution_count": 3,
   "outputs": [
    {
     "data": {
      "text/plain": "      Release Date    Season    Episode     Episode Title              Name  \\\n0       2011-04-17  Season 1  Episode 1  Winter is Coming      waymar royce   \n1       2011-04-17  Season 1  Episode 1  Winter is Coming              will   \n2       2011-04-17  Season 1  Episode 1  Winter is Coming      waymar royce   \n3       2011-04-17  Season 1  Episode 1  Winter is Coming              will   \n4       2011-04-17  Season 1  Episode 1  Winter is Coming             gared   \n...            ...       ...        ...               ...               ...   \n23906   2019-05-19  Season 8  Episode 6   The Iron Throne           brienne   \n23907   2019-05-19  Season 8  Episode 6   The Iron Throne             bronn   \n23908   2019-05-19  Season 8  Episode 6   The Iron Throne  tyrion lannister   \n23909   2019-05-19  Season 8  Episode 6   The Iron Throne               man   \n23910   2019-05-19  Season 8  Episode 6   The Iron Throne               all   \n\n                                                Sentence  \n0      What do you expect? They're savages. One lot s...  \n1      I've never seen wildlings do a thing like this...  \n2                                 How close did you get?  \n3                                Close as any man would.  \n4                       We should head back to the wall.  \n...                                                  ...  \n23906  I think we can all agree that ships take prece...  \n23907      I think that's a very presumptuous statement.  \n23908  I once brought a jackass and a honeycomb into ...  \n23909                            The Queen in the North!  \n23910  The Queen in the North! The Queen in the North...  \n\n[23911 rows x 6 columns]",
      "text/html": "<div>\n<style scoped>\n    .dataframe tbody tr th:only-of-type {\n        vertical-align: middle;\n    }\n\n    .dataframe tbody tr th {\n        vertical-align: top;\n    }\n\n    .dataframe thead th {\n        text-align: right;\n    }\n</style>\n<table border=\"1\" class=\"dataframe\">\n  <thead>\n    <tr style=\"text-align: right;\">\n      <th></th>\n      <th>Release Date</th>\n      <th>Season</th>\n      <th>Episode</th>\n      <th>Episode Title</th>\n      <th>Name</th>\n      <th>Sentence</th>\n    </tr>\n  </thead>\n  <tbody>\n    <tr>\n      <th>0</th>\n      <td>2011-04-17</td>\n      <td>Season 1</td>\n      <td>Episode 1</td>\n      <td>Winter is Coming</td>\n      <td>waymar royce</td>\n      <td>What do you expect? They're savages. One lot s...</td>\n    </tr>\n    <tr>\n      <th>1</th>\n      <td>2011-04-17</td>\n      <td>Season 1</td>\n      <td>Episode 1</td>\n      <td>Winter is Coming</td>\n      <td>will</td>\n      <td>I've never seen wildlings do a thing like this...</td>\n    </tr>\n    <tr>\n      <th>2</th>\n      <td>2011-04-17</td>\n      <td>Season 1</td>\n      <td>Episode 1</td>\n      <td>Winter is Coming</td>\n      <td>waymar royce</td>\n      <td>How close did you get?</td>\n    </tr>\n    <tr>\n      <th>3</th>\n      <td>2011-04-17</td>\n      <td>Season 1</td>\n      <td>Episode 1</td>\n      <td>Winter is Coming</td>\n      <td>will</td>\n      <td>Close as any man would.</td>\n    </tr>\n    <tr>\n      <th>4</th>\n      <td>2011-04-17</td>\n      <td>Season 1</td>\n      <td>Episode 1</td>\n      <td>Winter is Coming</td>\n      <td>gared</td>\n      <td>We should head back to the wall.</td>\n    </tr>\n    <tr>\n      <th>...</th>\n      <td>...</td>\n      <td>...</td>\n      <td>...</td>\n      <td>...</td>\n      <td>...</td>\n      <td>...</td>\n    </tr>\n    <tr>\n      <th>23906</th>\n      <td>2019-05-19</td>\n      <td>Season 8</td>\n      <td>Episode 6</td>\n      <td>The Iron Throne</td>\n      <td>brienne</td>\n      <td>I think we can all agree that ships take prece...</td>\n    </tr>\n    <tr>\n      <th>23907</th>\n      <td>2019-05-19</td>\n      <td>Season 8</td>\n      <td>Episode 6</td>\n      <td>The Iron Throne</td>\n      <td>bronn</td>\n      <td>I think that's a very presumptuous statement.</td>\n    </tr>\n    <tr>\n      <th>23908</th>\n      <td>2019-05-19</td>\n      <td>Season 8</td>\n      <td>Episode 6</td>\n      <td>The Iron Throne</td>\n      <td>tyrion lannister</td>\n      <td>I once brought a jackass and a honeycomb into ...</td>\n    </tr>\n    <tr>\n      <th>23909</th>\n      <td>2019-05-19</td>\n      <td>Season 8</td>\n      <td>Episode 6</td>\n      <td>The Iron Throne</td>\n      <td>man</td>\n      <td>The Queen in the North!</td>\n    </tr>\n    <tr>\n      <th>23910</th>\n      <td>2019-05-19</td>\n      <td>Season 8</td>\n      <td>Episode 6</td>\n      <td>The Iron Throne</td>\n      <td>all</td>\n      <td>The Queen in the North! The Queen in the North...</td>\n    </tr>\n  </tbody>\n</table>\n<p>23911 rows × 6 columns</p>\n</div>"
     },
     "execution_count": 3,
     "metadata": {},
     "output_type": "execute_result"
    }
   ],
   "source": [
    "got = pd.read_csv(\"Game_of_Thrones_Script/Game_of_Thrones_Script.csv\")\n",
    "got.name = 'Game of Thrones'\n",
    "\n",
    "got"
   ],
   "metadata": {
    "collapsed": false,
    "pycharm": {
     "name": "#%%\n"
    }
   }
  },
  {
   "cell_type": "code",
   "execution_count": 4,
   "outputs": [],
   "source": [
    "data = []\n",
    "for file in os.scandir(\"Friends/\"):\n",
    "    with open(file, encoding='utf8') as f:\n",
    "        script = f.read()\n",
    "        script = re.sub(r'\\([^()]*\\)', '', script)\n",
    "        script = re.sub(r'\\[[^()]*]', '', script)\n",
    "        script = script.split(\"\\n\")[2:]\n",
    "\n",
    "        for line in script:\n",
    "            if line != '':\n",
    "                if ':' in line:\n",
    "                    data.append(line.lower().split(':', 1))"
   ],
   "metadata": {
    "collapsed": false,
    "pycharm": {
     "name": "#%%\n"
    }
   }
  },
  {
   "cell_type": "code",
   "execution_count": 5,
   "outputs": [],
   "source": [
    "friends = pd.DataFrame(data, columns=[\"character\",\"line\"])\n",
    "friends.name = \"FRIENDS\""
   ],
   "metadata": {
    "collapsed": false,
    "pycharm": {
     "name": "#%%\n"
    }
   }
  },
  {
   "cell_type": "code",
   "execution_count": 6,
   "outputs": [],
   "source": [
    "friends[\"line_tok\"]  = friends[\"line\"].apply(nltk.word_tokenize)\n",
    "\n",
    "tok_count_fr = 0\n",
    "for line in friends[\"line_tok\"]:\n",
    "    tok_count_fr += len(line)\n",
    "\n",
    "friends.tok_count = tok_count_fr"
   ],
   "metadata": {
    "collapsed": false,
    "pycharm": {
     "name": "#%%\n"
    }
   }
  },
  {
   "cell_type": "code",
   "execution_count": 7,
   "outputs": [],
   "source": [
    "south[\"line_tok\"]  = south[\"Line\"].apply(nltk.word_tokenize)\n",
    "\n",
    "tok_count_so = 0\n",
    "for line in south[\"line_tok\"]:\n",
    "    tok_count_so += len(line)\n",
    "\n",
    "south.tok_count = tok_count_so"
   ],
   "metadata": {
    "collapsed": false,
    "pycharm": {
     "name": "#%%\n"
    }
   }
  },
  {
   "cell_type": "code",
   "execution_count": 8,
   "outputs": [],
   "source": [
    "got[\"line_tok\"]  = got[\"Sentence\"].apply(nltk.word_tokenize)\n",
    "\n",
    "tok_count_got = 0\n",
    "for line in got[\"line_tok\"]:\n",
    "    tok_count_got += len(line)\n",
    "\n",
    "got.tok_count = tok_count_got"
   ],
   "metadata": {
    "collapsed": false,
    "pycharm": {
     "name": "#%%\n"
    }
   }
  },
  {
   "cell_type": "code",
   "execution_count": 9,
   "outputs": [
    {
     "data": {
      "text/plain": "Cartman         9774\nStan            7680\nKyle            7099\nButters         2602\nRandy           2467\nMr. Garrison    1002\nChef             917\nKenny            881\nSharon           862\nMr. Mackey       633\nGerald           626\nJimmy            597\nWendy            585\nLiane            582\nSheila           566\nJimbo            556\nAnnouncer        407\nStephen          357\nCraig            326\nClyde            317\nName: Character, dtype: int64"
     },
     "execution_count": 9,
     "metadata": {},
     "output_type": "execute_result"
    }
   ],
   "source": [
    "south.Character.value_counts().head(20)"
   ],
   "metadata": {
    "collapsed": false,
    "pycharm": {
     "name": "#%%\n"
    }
   }
  },
  {
   "cell_type": "code",
   "execution_count": 10,
   "outputs": [
    {
     "data": {
      "text/plain": "tyrion lannister      1760\njon snow              1133\ndaenerys targaryen    1048\ncersei lannister      1005\njaime lannister        945\nsansa stark            784\narya stark             783\ndavos                  528\ntheon greyjoy          455\npetyr baelish          449\nsam                    399\nbran stark             399\nbronn                  393\njorah mormont          381\nman                    381\ntywin lannister        381\nvarys                  371\nbrienne                370\neddard stark           347\nrobb stark             306\nName: Name, dtype: int64"
     },
     "execution_count": 10,
     "metadata": {},
     "output_type": "execute_result"
    }
   ],
   "source": [
    "got.Name.value_counts().head(20)"
   ],
   "metadata": {
    "collapsed": false,
    "pycharm": {
     "name": "#%%\n"
    }
   }
  },
  {
   "cell_type": "code",
   "execution_count": 11,
   "outputs": [
    {
     "data": {
      "text/plain": "chandler       589\nross           512\njoey           454\nmonica         439\nrachel         425\nphoebe         422\nmike            31\nall             29\nstory by        27\nfrank sr.       21\nwritten by      19\ndirected by     19\ntag             17\njade            17\njanice          15\nwaiter          15\njoanna          15\nstephanie       13\nmrs. geller     12\njill            11\nName: character, dtype: int64"
     },
     "execution_count": 11,
     "metadata": {},
     "output_type": "execute_result"
    }
   ],
   "source": [
    "friends.character.value_counts().head(20)"
   ],
   "metadata": {
    "collapsed": false,
    "pycharm": {
     "name": "#%%\n"
    }
   }
  },
  {
   "cell_type": "code",
   "execution_count": 12,
   "outputs": [
    {
     "name": "stdout",
     "output_type": "stream",
     "text": [
      "FRIENDS has 10569 lines of dialogue made up out of 44529 tokens. The dialogue is spoken by 175 different characters\n",
      "South Park has 354480 lines of dialogue made up out of 1071788 tokens. The dialogue is spoken by 3950 different characters\n",
      "Game of Thrones has 167377 lines of dialogue made up out of 356783 tokens. The dialogue is spoken by 564 different characters\n"
     ]
    }
   ],
   "source": [
    "print(\"FRIENDS has %s lines of dialogue made up out of %s tokens. The dialogue is spoken by %s different characters\" % (friends.size, tok_count_fr, len(friends.character.value_counts())))\n",
    "print(\"South Park has %s lines of dialogue made up out of %s tokens. The dialogue is spoken by %s different characters\" % (south.size, tok_count_so, len(south.Character.value_counts())))\n",
    "print(\"Game of Thrones has %s lines of dialogue made up out of %s tokens. The dialogue is spoken by %s different characters\" % (got.size, tok_count_got, len(got.Name.value_counts())))"
   ],
   "metadata": {
    "collapsed": false,
    "pycharm": {
     "name": "#%%\n"
    }
   }
  },
  {
   "cell_type": "code",
   "execution_count": null,
   "outputs": [],
   "source": [],
   "metadata": {
    "collapsed": false,
    "pycharm": {
     "name": "#%%\n"
    }
   }
  }
 ],
 "metadata": {
  "kernelspec": {
   "name": "python3",
   "language": "python",
   "display_name": "Python 3 (ipykernel)"
  },
  "language_info": {
   "codemirror_mode": {
    "name": "ipython",
    "version": 2
   },
   "file_extension": ".py",
   "mimetype": "text/x-python",
   "name": "python",
   "nbconvert_exporter": "python",
   "pygments_lexer": "ipython2",
   "version": "2.7.6"
  }
 },
 "nbformat": 4,
 "nbformat_minor": 0
}