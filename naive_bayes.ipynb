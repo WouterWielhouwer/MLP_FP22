{
 "cells": [
  {
   "cell_type": "code",
   "execution_count": 1,
   "metadata": {
    "collapsed": false,
    "jupyter": {
     "outputs_hidden": false
    },
    "pycharm": {
     "name": "#%%\n"
    }
   },
   "outputs": [],
   "source": [
    "import pandas as pd\n",
    "import os\n",
    "import re\n",
    "import nltk\n",
    "\n",
    "#nltk.download('punkt')"
   ]
  },
  {
   "cell_type": "code",
   "execution_count": 2,
   "metadata": {
    "collapsed": false,
    "jupyter": {
     "outputs_hidden": false
    },
    "pycharm": {
     "name": "#%%\n"
    }
   },
   "outputs": [
    {
     "data": {
      "text/plain": "      Release Date    Season    Episode     Episode Title              Name  \\\n0       2011-04-17  Season 1  Episode 1  Winter is Coming      waymar royce   \n1       2011-04-17  Season 1  Episode 1  Winter is Coming              will   \n2       2011-04-17  Season 1  Episode 1  Winter is Coming      waymar royce   \n3       2011-04-17  Season 1  Episode 1  Winter is Coming              will   \n4       2011-04-17  Season 1  Episode 1  Winter is Coming             gared   \n...            ...       ...        ...               ...               ...   \n23906   2019-05-19  Season 8  Episode 6   The Iron Throne           brienne   \n23907   2019-05-19  Season 8  Episode 6   The Iron Throne             bronn   \n23908   2019-05-19  Season 8  Episode 6   The Iron Throne  tyrion lannister   \n23909   2019-05-19  Season 8  Episode 6   The Iron Throne               man   \n23910   2019-05-19  Season 8  Episode 6   The Iron Throne               all   \n\n                                                Sentence  \n0      What do you expect? They're savages. One lot s...  \n1      I've never seen wildlings do a thing like this...  \n2                                 How close did you get?  \n3                                Close as any man would.  \n4                       We should head back to the wall.  \n...                                                  ...  \n23906  I think we can all agree that ships take prece...  \n23907      I think that's a very presumptuous statement.  \n23908  I once brought a jackass and a honeycomb into ...  \n23909                            The Queen in the North!  \n23910  The Queen in the North! The Queen in the North...  \n\n[23911 rows x 6 columns]",
      "text/html": "<div>\n<style scoped>\n    .dataframe tbody tr th:only-of-type {\n        vertical-align: middle;\n    }\n\n    .dataframe tbody tr th {\n        vertical-align: top;\n    }\n\n    .dataframe thead th {\n        text-align: right;\n    }\n</style>\n<table border=\"1\" class=\"dataframe\">\n  <thead>\n    <tr style=\"text-align: right;\">\n      <th></th>\n      <th>Release Date</th>\n      <th>Season</th>\n      <th>Episode</th>\n      <th>Episode Title</th>\n      <th>Name</th>\n      <th>Sentence</th>\n    </tr>\n  </thead>\n  <tbody>\n    <tr>\n      <th>0</th>\n      <td>2011-04-17</td>\n      <td>Season 1</td>\n      <td>Episode 1</td>\n      <td>Winter is Coming</td>\n      <td>waymar royce</td>\n      <td>What do you expect? They're savages. One lot s...</td>\n    </tr>\n    <tr>\n      <th>1</th>\n      <td>2011-04-17</td>\n      <td>Season 1</td>\n      <td>Episode 1</td>\n      <td>Winter is Coming</td>\n      <td>will</td>\n      <td>I've never seen wildlings do a thing like this...</td>\n    </tr>\n    <tr>\n      <th>2</th>\n      <td>2011-04-17</td>\n      <td>Season 1</td>\n      <td>Episode 1</td>\n      <td>Winter is Coming</td>\n      <td>waymar royce</td>\n      <td>How close did you get?</td>\n    </tr>\n    <tr>\n      <th>3</th>\n      <td>2011-04-17</td>\n      <td>Season 1</td>\n      <td>Episode 1</td>\n      <td>Winter is Coming</td>\n      <td>will</td>\n      <td>Close as any man would.</td>\n    </tr>\n    <tr>\n      <th>4</th>\n      <td>2011-04-17</td>\n      <td>Season 1</td>\n      <td>Episode 1</td>\n      <td>Winter is Coming</td>\n      <td>gared</td>\n      <td>We should head back to the wall.</td>\n    </tr>\n    <tr>\n      <th>...</th>\n      <td>...</td>\n      <td>...</td>\n      <td>...</td>\n      <td>...</td>\n      <td>...</td>\n      <td>...</td>\n    </tr>\n    <tr>\n      <th>23906</th>\n      <td>2019-05-19</td>\n      <td>Season 8</td>\n      <td>Episode 6</td>\n      <td>The Iron Throne</td>\n      <td>brienne</td>\n      <td>I think we can all agree that ships take prece...</td>\n    </tr>\n    <tr>\n      <th>23907</th>\n      <td>2019-05-19</td>\n      <td>Season 8</td>\n      <td>Episode 6</td>\n      <td>The Iron Throne</td>\n      <td>bronn</td>\n      <td>I think that's a very presumptuous statement.</td>\n    </tr>\n    <tr>\n      <th>23908</th>\n      <td>2019-05-19</td>\n      <td>Season 8</td>\n      <td>Episode 6</td>\n      <td>The Iron Throne</td>\n      <td>tyrion lannister</td>\n      <td>I once brought a jackass and a honeycomb into ...</td>\n    </tr>\n    <tr>\n      <th>23909</th>\n      <td>2019-05-19</td>\n      <td>Season 8</td>\n      <td>Episode 6</td>\n      <td>The Iron Throne</td>\n      <td>man</td>\n      <td>The Queen in the North!</td>\n    </tr>\n    <tr>\n      <th>23910</th>\n      <td>2019-05-19</td>\n      <td>Season 8</td>\n      <td>Episode 6</td>\n      <td>The Iron Throne</td>\n      <td>all</td>\n      <td>The Queen in the North! The Queen in the North...</td>\n    </tr>\n  </tbody>\n</table>\n<p>23911 rows × 6 columns</p>\n</div>"
     },
     "execution_count": 2,
     "metadata": {},
     "output_type": "execute_result"
    }
   ],
   "source": [
    "got = pd.read_csv(\"Game_of_Thrones_Script/Game_of_Thrones_Script.csv\")\n",
    "got.name = 'Game of Thrones'\n",
    "\n",
    "got"
   ]
  },
  {
   "cell_type": "code",
   "execution_count": 3,
   "metadata": {
    "collapsed": false,
    "jupyter": {
     "outputs_hidden": false
    },
    "pycharm": {
     "name": "#%%\n"
    }
   },
   "outputs": [],
   "source": [
    "df = got[[\"Name\",\"Sentence\"]]\n",
    "\n",
    "df = df.rename(columns = {\"Name\":\"character\",\"Sentence\":\"line\"})"
   ]
  },
  {
   "cell_type": "code",
   "execution_count": 3,
   "metadata": {
    "collapsed": false,
    "jupyter": {
     "outputs_hidden": false
    },
    "pycharm": {
     "name": "#%%\n"
    }
   },
   "outputs": [],
   "source": []
  },
  {
   "cell_type": "code",
   "execution_count": 3,
   "metadata": {},
   "outputs": [],
   "source": []
  }
 ],
 "metadata": {
  "kernelspec": {
   "display_name": "Python 3 (ipykernel)",
   "language": "python",
   "name": "python3"
  },
  "language_info": {
   "codemirror_mode": {
    "name": "ipython",
    "version": 3
   },
   "file_extension": ".py",
   "mimetype": "text/x-python",
   "name": "python",
   "nbconvert_exporter": "python",
   "pygments_lexer": "ipython3",
   "version": "3.9.10"
  },
  "pycharm": {
   "stem_cell": {
    "cell_type": "raw",
    "metadata": {
     "collapsed": false
    },
    "source": [
     "Experimenting"
    ]
   }
  }
 },
 "nbformat": 4,
 "nbformat_minor": 4
}