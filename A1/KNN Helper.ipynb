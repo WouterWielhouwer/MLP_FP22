{
 "cells": [
  {
   "cell_type": "code",
   "execution_count": 1,
   "id": "f3884604",
   "metadata": {},
   "outputs": [
    {
     "name": "stdout",
     "output_type": "stream",
     "text": [
      "Training features: \n",
      "[[5 1 9 7 3 8 1 1 9 0]\n",
      " [0 8 2 4 9 1 8 9 3 2]\n",
      " [0 1 9 8 0 0 9 6 9 4]\n",
      " [9 3 5 9 8 4 3 0 3 6]\n",
      " [8 3 2 5 2 5 0 8 2 0]]\n",
      "Test features: \n",
      "[[7 7 6 1 3 6 5 9 0 5]\n",
      " [2 6 9 4 8 8 1 1 3 5]]\n"
     ]
    }
   ],
   "source": [
    "import numpy as np\n",
    "\n",
    "# Let's create feature arrays for training and testing to simulate the assignment\n",
    "train_feats = np.random.randint(10, size=(5, 10))\n",
    "test_feats = np.random.randint(10, size=(2, 10))\n",
    "\n",
    "print(f'Training features: \\n{train_feats}')\n",
    "print(f'Test features: \\n{test_feats}')\n",
    "\n",
    "# Semantics of this features matrix:\n",
    "# We have 5 tweets in training data with 10 unique word and 2 tweets in test data.\n",
    "# Number are the counts of these unique words in the tweets!"
   ]
  },
  {
   "cell_type": "code",
   "execution_count": 2,
   "id": "e14d4349",
   "metadata": {},
   "outputs": [
    {
     "name": "stdout",
     "output_type": "stream",
     "text": [
      "Training labels: [0 2 2 0 2]\n",
      "Test labels: [2]\n"
     ]
    }
   ],
   "source": [
    "# Let's create label vectors for both training and testing data\n",
    "train_labels = np.array([0,2,2,0,2])\n",
    "test_labels = np.array([2])\n",
    "\n",
    "print(f'Training labels: {train_labels}')\n",
    "print(f'Test labels: {test_labels}')\n",
    "\n",
    "# Semantics of this label vectors:\n",
    "# We have 4 unique labels [0,1,2,3]\n",
    "# These two vectors consists of a label for each sentence in training (5) and test (2)"
   ]
  },
  {
   "cell_type": "code",
   "execution_count": 4,
   "id": "04354be7",
   "metadata": {},
   "outputs": [
    {
     "name": "stdout",
     "output_type": "stream",
     "text": [
      "Cosine distances between test and train features: \n",
      "[[0.4414118  0.2565371  0.43814221 0.32575678 0.1880213 ]\n",
      " [0.2103133  0.36597054 0.45015019 0.19090417 0.41979889]]\n",
      "Cosine distance: 0.4381422129053477\n",
      "Cosine similarity: 0.5618577870946523\n",
      "Closest K neighbours per each test tweet: [[4 1 3]\n",
      " [3 0 1]]\n"
     ]
    }
   ],
   "source": [
    "# For the KNN implementation:\n",
    "# First we need to calculate distance between each test features and train features\n",
    "\n",
    "# For the efficiency, you can use a scipy function:\n",
    "from scipy.spatial.distance import cdist \n",
    "\n",
    "# 2D array of distances between all test and all training tweets\n",
    "# Shape (Test X Train)\n",
    "distance_values = cdist(test_feats, train_feats, 'cosine')\n",
    "print(f'Cosine distances between test and train features: \\n{distance_values}')\n",
    "\n",
    "# In this matrix, each row index represent a test tweet and each colomn index represent a training tweet\n",
    "# Therefore, if you want to obtain cosine distance between 1st test tweet and 3rd training tweet:\n",
    "print(f'Cosine distance: {distance_values[0,2]}')\n",
    "\n",
    "# Note that these values are cosine distances, if you want to check cosine similarity:\n",
    "# cosine_simimilarity = 1 - cosine_distance\n",
    "print(f'Cosine similarity: {1 - distance_values[0,2]}')\n",
    "\n",
    "K = 3\n",
    "\n",
    "# After that you need to sort this values to obtain K closest training tweets over each test tweet:\n",
    "# You can use np.argsort() for sorting\n",
    "\n",
    "\n",
    "# Later, you need to obtain labels of N neighbours and do voting to find max voted prediction for each tweet\n",
    "# You can use np.bincount again to sum votes for each class and select max voted class with np.argmax\n",
    "\n",
    "# You can also do with for loop if you find it easier !!!"
   ]
  }
 ],
 "metadata": {
  "kernelspec": {
   "display_name": "Python 3 (ipykernel)",
   "language": "python",
   "name": "python3"
  },
  "language_info": {
   "codemirror_mode": {
    "name": "ipython",
    "version": 3
   },
   "file_extension": ".py",
   "mimetype": "text/x-python",
   "name": "python",
   "nbconvert_exporter": "python",
   "pygments_lexer": "ipython3",
   "version": "3.7.3"
  }
 },
 "nbformat": 4,
 "nbformat_minor": 5
}